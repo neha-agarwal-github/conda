{
 "cells": [
  {
   "cell_type": "code",
   "execution_count": 2,
   "metadata": {},
   "outputs": [
    {
     "name": "stdout",
     "output_type": "stream",
     "text": [
      "Requirement already satisfied: dask[complete] in /srv/conda/envs/notebook/lib/python3.7/site-packages (2.3.0)\n",
      "Requirement already satisfied: pandas>=0.21.0; extra == \"complete\" in /srv/conda/envs/notebook/lib/python3.7/site-packages (from dask[complete]) (0.25.1)\n",
      "Requirement already satisfied: partd>=0.3.10; extra == \"complete\" in /srv/conda/envs/notebook/lib/python3.7/site-packages (from dask[complete]) (1.0.0)\n",
      "Requirement already satisfied: toolz>=0.7.3; extra == \"complete\" in /srv/conda/envs/notebook/lib/python3.7/site-packages (from dask[complete]) (0.10.0)\n",
      "Requirement already satisfied: numpy>=1.13.0; extra == \"complete\" in /srv/conda/envs/notebook/lib/python3.7/site-packages (from dask[complete]) (1.17.1)\n",
      "Requirement already satisfied: fsspec>=0.3.3; extra == \"complete\" in /srv/conda/envs/notebook/lib/python3.7/site-packages (from dask[complete]) (0.4.3)\n",
      "Requirement already satisfied: distributed>=2.0; extra == \"complete\" in /srv/conda/envs/notebook/lib/python3.7/site-packages (from dask[complete]) (2.3.2)\n",
      "Requirement already satisfied: cloudpickle>=0.2.1; extra == \"complete\" in /srv/conda/envs/notebook/lib/python3.7/site-packages (from dask[complete]) (1.2.1)\n",
      "Requirement already satisfied: bokeh>=1.0.0; extra == \"complete\" in /srv/conda/envs/notebook/lib/python3.7/site-packages (from dask[complete]) (1.3.4)\n",
      "Requirement already satisfied: pytz>=2017.2 in /srv/conda/envs/notebook/lib/python3.7/site-packages (from pandas>=0.21.0; extra == \"complete\"->dask[complete]) (2019.2)\n",
      "Requirement already satisfied: python-dateutil>=2.6.1 in /srv/conda/envs/notebook/lib/python3.7/site-packages (from pandas>=0.21.0; extra == \"complete\"->dask[complete]) (2.8.0)\n",
      "Requirement already satisfied: locket in /srv/conda/envs/notebook/lib/python3.7/site-packages (from partd>=0.3.10; extra == \"complete\"->dask[complete]) (0.2.0)\n",
      "Requirement already satisfied: zict>=0.1.3 in /srv/conda/envs/notebook/lib/python3.7/site-packages (from distributed>=2.0; extra == \"complete\"->dask[complete]) (1.0.0)\n",
      "Requirement already satisfied: psutil>=5.0 in /srv/conda/envs/notebook/lib/python3.7/site-packages (from distributed>=2.0; extra == \"complete\"->dask[complete]) (5.6.3)\n",
      "Requirement already satisfied: msgpack in /srv/conda/envs/notebook/lib/python3.7/site-packages (from distributed>=2.0; extra == \"complete\"->dask[complete]) (0.6.1)\n",
      "Requirement already satisfied: click>=6.6 in /srv/conda/envs/notebook/lib/python3.7/site-packages (from distributed>=2.0; extra == \"complete\"->dask[complete]) (7.0)\n",
      "Requirement already satisfied: tornado>=5 in /srv/conda/envs/notebook/lib/python3.7/site-packages (from distributed>=2.0; extra == \"complete\"->dask[complete]) (6.0.3)\n",
      "Requirement already satisfied: six in /srv/conda/envs/notebook/lib/python3.7/site-packages (from distributed>=2.0; extra == \"complete\"->dask[complete]) (1.12.0)\n",
      "Requirement already satisfied: sortedcontainers!=2.0.0,!=2.0.1 in /srv/conda/envs/notebook/lib/python3.7/site-packages (from distributed>=2.0; extra == \"complete\"->dask[complete]) (2.1.0)\n",
      "Requirement already satisfied: tblib in /srv/conda/envs/notebook/lib/python3.7/site-packages (from distributed>=2.0; extra == \"complete\"->dask[complete]) (1.4.0)\n",
      "Requirement already satisfied: pyyaml in /srv/conda/envs/notebook/lib/python3.7/site-packages (from distributed>=2.0; extra == \"complete\"->dask[complete]) (5.1.2)\n",
      "Requirement already satisfied: pillow>=4.0 in /srv/conda/envs/notebook/lib/python3.7/site-packages (from bokeh>=1.0.0; extra == \"complete\"->dask[complete]) (6.1.0)\n",
      "Requirement already satisfied: packaging>=16.8 in /srv/conda/envs/notebook/lib/python3.7/site-packages (from bokeh>=1.0.0; extra == \"complete\"->dask[complete]) (19.0)\n",
      "Requirement already satisfied: Jinja2>=2.7 in /srv/conda/envs/notebook/lib/python3.7/site-packages (from bokeh>=1.0.0; extra == \"complete\"->dask[complete]) (2.10.1)\n",
      "Requirement already satisfied: heapdict in /srv/conda/envs/notebook/lib/python3.7/site-packages (from zict>=0.1.3->distributed>=2.0; extra == \"complete\"->dask[complete]) (1.0.0)\n",
      "Requirement already satisfied: pyparsing>=2.0.2 in /srv/conda/envs/notebook/lib/python3.7/site-packages (from packaging>=16.8->bokeh>=1.0.0; extra == \"complete\"->dask[complete]) (2.4.2)\n",
      "Requirement already satisfied: MarkupSafe>=0.23 in /srv/conda/envs/notebook/lib/python3.7/site-packages (from Jinja2>=2.7->bokeh>=1.0.0; extra == \"complete\"->dask[complete]) (1.1.1)\n",
      "Note: you may need to restart the kernel to use updated packages.\n"
     ]
    }
   ],
   "source": [
    "pip install dask[complete]"
   ]
  },
  {
   "cell_type": "code",
   "execution_count": 3,
   "metadata": {},
   "outputs": [
    {
     "name": "stdout",
     "output_type": "stream",
     "text": [
      "Requirement already up-to-date: dask in /srv/conda/envs/notebook/lib/python3.7/site-packages (2.3.0)\n",
      "Requirement already up-to-date: distributed in /srv/conda/envs/notebook/lib/python3.7/site-packages (2.3.2)\n",
      "Requirement already satisfied, skipping upgrade: cloudpickle>=0.2.2 in /srv/conda/envs/notebook/lib/python3.7/site-packages (from distributed) (1.2.1)\n",
      "Requirement already satisfied, skipping upgrade: pyyaml in /srv/conda/envs/notebook/lib/python3.7/site-packages (from distributed) (5.1.2)\n",
      "Requirement already satisfied, skipping upgrade: tblib in /srv/conda/envs/notebook/lib/python3.7/site-packages (from distributed) (1.4.0)\n",
      "Requirement already satisfied, skipping upgrade: msgpack in /srv/conda/envs/notebook/lib/python3.7/site-packages (from distributed) (0.6.1)\n",
      "Requirement already satisfied, skipping upgrade: tornado>=5 in /srv/conda/envs/notebook/lib/python3.7/site-packages (from distributed) (6.0.3)\n",
      "Requirement already satisfied, skipping upgrade: click>=6.6 in /srv/conda/envs/notebook/lib/python3.7/site-packages (from distributed) (7.0)\n",
      "Requirement already satisfied, skipping upgrade: toolz>=0.7.4 in /srv/conda/envs/notebook/lib/python3.7/site-packages (from distributed) (0.10.0)\n",
      "Requirement already satisfied, skipping upgrade: sortedcontainers!=2.0.0,!=2.0.1 in /srv/conda/envs/notebook/lib/python3.7/site-packages (from distributed) (2.1.0)\n",
      "Requirement already satisfied, skipping upgrade: zict>=0.1.3 in /srv/conda/envs/notebook/lib/python3.7/site-packages (from distributed) (1.0.0)\n",
      "Requirement already satisfied, skipping upgrade: psutil>=5.0 in /srv/conda/envs/notebook/lib/python3.7/site-packages (from distributed) (5.6.3)\n",
      "Requirement already satisfied, skipping upgrade: six in /srv/conda/envs/notebook/lib/python3.7/site-packages (from distributed) (1.12.0)\n",
      "Requirement already satisfied, skipping upgrade: heapdict in /srv/conda/envs/notebook/lib/python3.7/site-packages (from zict>=0.1.3->distributed) (1.0.0)\n",
      "Note: you may need to restart the kernel to use updated packages.\n"
     ]
    }
   ],
   "source": [
    "pip install dask distributed --upgrade"
   ]
  },
  {
   "cell_type": "code",
   "execution_count": 4,
   "metadata": {},
   "outputs": [
    {
     "name": "stdout",
     "output_type": "stream",
     "text": [
      "Collecting fastparquet\n",
      "\u001b[?25l  Downloading https://files.pythonhosted.org/packages/58/49/dccb790fa17ab3fbf84a6b848050083c7a1899e9586000e34e3e4fbf5538/fastparquet-0.3.2.tar.gz (151kB)\n",
      "\u001b[K     |████████████████████████████████| 153kB 3.4MB/s \n",
      "\u001b[?25hRequirement already satisfied: pandas>=0.19 in /srv/conda/envs/notebook/lib/python3.7/site-packages (from fastparquet) (0.25.1)\n",
      "Collecting numba>=0.28 (from fastparquet)\n",
      "\u001b[?25l  Downloading https://files.pythonhosted.org/packages/b5/9b/7ad0a181b66d58334a2233f18fc8345e3ff17ea6f8db0eb59dc31182b6a9/numba-0.45.1-cp37-cp37m-manylinux1_x86_64.whl (3.5MB)\n",
      "\u001b[K     |████████████████████████████████| 3.5MB 54.0MB/s \n",
      "\u001b[?25hRequirement already satisfied: numpy>=1.11 in /srv/conda/envs/notebook/lib/python3.7/site-packages (from fastparquet) (1.17.1)\n",
      "Collecting thrift>=0.11.0 (from fastparquet)\n",
      "\u001b[?25l  Downloading https://files.pythonhosted.org/packages/c6/b4/510617906f8e0c5660e7d96fbc5585113f83ad547a3989b80297ac72a74c/thrift-0.11.0.tar.gz (52kB)\n",
      "\u001b[K     |████████████████████████████████| 61kB 25.6MB/s \n",
      "\u001b[?25hRequirement already satisfied: six in /srv/conda/envs/notebook/lib/python3.7/site-packages (from fastparquet) (1.12.0)\n",
      "Requirement already satisfied: pytz>=2017.2 in /srv/conda/envs/notebook/lib/python3.7/site-packages (from pandas>=0.19->fastparquet) (2019.2)\n",
      "Requirement already satisfied: python-dateutil>=2.6.1 in /srv/conda/envs/notebook/lib/python3.7/site-packages (from pandas>=0.19->fastparquet) (2.8.0)\n",
      "Collecting llvmlite>=0.29.0dev0 (from numba>=0.28->fastparquet)\n",
      "\u001b[?25l  Downloading https://files.pythonhosted.org/packages/30/ae/a33eb9a94734889c189ba4b05170ac0ede05904db5d3dd31158cb33ac16e/llvmlite-0.29.0-1-cp37-cp37m-manylinux1_x86_64.whl (20.2MB)\n",
      "\u001b[K     |████████████████████████████████| 20.2MB 23.6MB/s \n",
      "\u001b[?25hBuilding wheels for collected packages: fastparquet, thrift\n",
      "  Building wheel for fastparquet (setup.py) ... \u001b[?25ldone\n",
      "\u001b[?25h  Created wheel for fastparquet: filename=fastparquet-0.3.2-cp37-cp37m-linux_x86_64.whl size=260880 sha256=5f64226513bb5ce2f82ac92f9895f1984900ce4959645ab9a966fce2885bb482\n",
      "  Stored in directory: /home/jovyan/.cache/pip/wheels/b9/36/13/01416a760ddcab0eb8281ec9c9ffcbed945c9b831647c8b904\n",
      "  Building wheel for thrift (setup.py) ... \u001b[?25ldone\n",
      "\u001b[?25h  Created wheel for thrift: filename=thrift-0.11.0-cp37-cp37m-linux_x86_64.whl size=390645 sha256=26d2c103bb10896d8d6cfa9180b992040a76c5800e3e2231e6363bb18a5989d8\n",
      "  Stored in directory: /home/jovyan/.cache/pip/wheels/be/36/81/0f93ba89a1cb7887c91937948519840a72c0ffdd57cac0ae8f\n",
      "Successfully built fastparquet thrift\n",
      "Installing collected packages: llvmlite, numba, thrift, fastparquet\n",
      "Successfully installed fastparquet-0.3.2 llvmlite-0.29.0 numba-0.45.1 thrift-0.11.0\n",
      "Note: you may need to restart the kernel to use updated packages.\n"
     ]
    }
   ],
   "source": [
    "pip install fastparquet"
   ]
  },
  {
   "cell_type": "code",
   "execution_count": 5,
   "metadata": {},
   "outputs": [
    {
     "name": "stdout",
     "output_type": "stream",
     "text": [
      "Collecting gcsfs\n",
      "  Downloading https://files.pythonhosted.org/packages/32/bf/a105dffbbebd60662bf95c550bb74e4236ca28e77c06735cf6ec11577d0e/gcsfs-0.3.0-py2.py3-none-any.whl\n",
      "Collecting google-auth>=1.2 (from gcsfs)\n",
      "\u001b[?25l  Downloading https://files.pythonhosted.org/packages/c5/9b/ed0516cc1f7609fb0217e3057ff4f0f9f3e3ce79a369c6af4a6c5ca25664/google_auth-1.6.3-py2.py3-none-any.whl (73kB)\n",
      "\u001b[K     |████████████████████████████████| 81kB 7.0MB/s \n",
      "\u001b[?25hRequirement already satisfied: fsspec>=0.2.2 in /srv/conda/envs/notebook/lib/python3.7/site-packages (from gcsfs) (0.4.3)\n",
      "Requirement already satisfied: decorator in /srv/conda/envs/notebook/lib/python3.7/site-packages (from gcsfs) (4.4.0)\n",
      "Collecting google-auth-oauthlib (from gcsfs)\n",
      "  Downloading https://files.pythonhosted.org/packages/74/a2/1323b1bce9935ac948cd4863509de16cf852cd80b12dd29e648c65fea93d/google_auth_oauthlib-0.4.0-py2.py3-none-any.whl\n",
      "Requirement already satisfied: requests in /srv/conda/envs/notebook/lib/python3.7/site-packages (from gcsfs) (2.22.0)\n",
      "Collecting cachetools>=2.0.0 (from google-auth>=1.2->gcsfs)\n",
      "  Downloading https://files.pythonhosted.org/packages/2f/a6/30b0a0bef12283e83e58c1d6e7b5aabc7acfc4110df81a4471655d33e704/cachetools-3.1.1-py2.py3-none-any.whl\n",
      "Collecting pyasn1-modules>=0.2.1 (from google-auth>=1.2->gcsfs)\n",
      "\u001b[?25l  Downloading https://files.pythonhosted.org/packages/be/70/e5ea8afd6d08a4b99ebfc77bd1845248d56cfcf43d11f9dc324b9580a35c/pyasn1_modules-0.2.6-py2.py3-none-any.whl (95kB)\n",
      "\u001b[K     |████████████████████████████████| 102kB 28.5MB/s \n",
      "\u001b[?25hRequirement already satisfied: six>=1.9.0 in /srv/conda/envs/notebook/lib/python3.7/site-packages (from google-auth>=1.2->gcsfs) (1.12.0)\n",
      "Collecting rsa>=3.1.4 (from google-auth>=1.2->gcsfs)\n",
      "  Downloading https://files.pythonhosted.org/packages/02/e5/38518af393f7c214357079ce67a317307936896e961e35450b70fad2a9cf/rsa-4.0-py2.py3-none-any.whl\n",
      "Collecting requests-oauthlib>=0.7.0 (from google-auth-oauthlib->gcsfs)\n",
      "  Downloading https://files.pythonhosted.org/packages/c2/e2/9fd03d55ffb70fe51f587f20bcf407a6927eb121de86928b34d162f0b1ac/requests_oauthlib-1.2.0-py2.py3-none-any.whl\n",
      "Requirement already satisfied: chardet<3.1.0,>=3.0.2 in /srv/conda/envs/notebook/lib/python3.7/site-packages (from requests->gcsfs) (3.0.4)\n",
      "Requirement already satisfied: certifi>=2017.4.17 in /srv/conda/envs/notebook/lib/python3.7/site-packages (from requests->gcsfs) (2019.6.16)\n",
      "Requirement already satisfied: idna<2.9,>=2.5 in /srv/conda/envs/notebook/lib/python3.7/site-packages (from requests->gcsfs) (2.8)\n",
      "Requirement already satisfied: urllib3!=1.25.0,!=1.25.1,<1.26,>=1.21.1 in /srv/conda/envs/notebook/lib/python3.7/site-packages (from requests->gcsfs) (1.25.3)\n",
      "Collecting pyasn1<0.5.0,>=0.4.6 (from pyasn1-modules>=0.2.1->google-auth>=1.2->gcsfs)\n",
      "\u001b[?25l  Downloading https://files.pythonhosted.org/packages/6a/6e/209351ec34b7d7807342e2bb6ff8a96eef1fd5dcac13bdbadf065c2bb55c/pyasn1-0.4.6-py2.py3-none-any.whl (75kB)\n",
      "\u001b[K     |████████████████████████████████| 81kB 14.6MB/s \n",
      "\u001b[?25hRequirement already satisfied: oauthlib>=3.0.0 in /srv/conda/envs/notebook/lib/python3.7/site-packages (from requests-oauthlib>=0.7.0->google-auth-oauthlib->gcsfs) (3.0.1)\n",
      "Installing collected packages: cachetools, pyasn1, pyasn1-modules, rsa, google-auth, requests-oauthlib, google-auth-oauthlib, gcsfs\n",
      "Successfully installed cachetools-3.1.1 gcsfs-0.3.0 google-auth-1.6.3 google-auth-oauthlib-0.4.0 pyasn1-0.4.6 pyasn1-modules-0.2.6 requests-oauthlib-1.2.0 rsa-4.0\n",
      "Note: you may need to restart the kernel to use updated packages.\n"
     ]
    }
   ],
   "source": [
    "pip install gcsfs"
   ]
  },
  {
   "cell_type": "code",
   "execution_count": 1,
   "metadata": {},
   "outputs": [],
   "source": [
    "import pandas as pd\n",
    "import os\n",
    "import dask.dataframe as dd\n",
    "import gcsfs\n",
    "import fastparquet\n",
    "from distributed import Client, LocalCluster"
   ]
  },
  {
   "cell_type": "code",
   "execution_count": 2,
   "metadata": {},
   "outputs": [],
   "source": [
    "#Create Cluster with 10 workers\n",
    "cluster=LocalCluster(n_workers=10)\n",
    "client=Client(cluster)"
   ]
  },
  {
   "cell_type": "code",
   "execution_count": 3,
   "metadata": {},
   "outputs": [],
   "source": [
    "#Load Dataset1\n",
    "df1=dd.read_parquet(path=\"gcs://anaconda-public-data/nyc-taxi/nyc.parquet/part.0.parquet\", engine='fastparquet')"
   ]
  },
  {
   "cell_type": "code",
   "execution_count": 4,
   "metadata": {},
   "outputs": [
    {
     "data": {
      "text/html": [
       "<div>\n",
       "<style scoped>\n",
       "    .dataframe tbody tr th:only-of-type {\n",
       "        vertical-align: middle;\n",
       "    }\n",
       "\n",
       "    .dataframe tbody tr th {\n",
       "        vertical-align: top;\n",
       "    }\n",
       "\n",
       "    .dataframe thead th {\n",
       "        text-align: right;\n",
       "    }\n",
       "</style>\n",
       "<table border=\"1\" class=\"dataframe\">\n",
       "  <thead>\n",
       "    <tr style=\"text-align: right;\">\n",
       "      <th></th>\n",
       "      <th>tpep_pickup_datetime</th>\n",
       "      <th>VendorID</th>\n",
       "      <th>tpep_dropoff_datetime</th>\n",
       "      <th>passenger_count</th>\n",
       "      <th>trip_distance</th>\n",
       "      <th>pickup_longitude</th>\n",
       "      <th>pickup_latitude</th>\n",
       "      <th>RateCodeID</th>\n",
       "      <th>store_and_fwd_flag</th>\n",
       "      <th>dropoff_longitude</th>\n",
       "      <th>dropoff_latitude</th>\n",
       "      <th>payment_type</th>\n",
       "      <th>fare_amount</th>\n",
       "      <th>extra</th>\n",
       "      <th>mta_tax</th>\n",
       "      <th>tip_amount</th>\n",
       "      <th>tolls_amount</th>\n",
       "      <th>improvement_surcharge</th>\n",
       "      <th>total_amount</th>\n",
       "    </tr>\n",
       "  </thead>\n",
       "  <tbody>\n",
       "    <tr>\n",
       "      <td>0</td>\n",
       "      <td>2015-01-01 00:00:00</td>\n",
       "      <td>1</td>\n",
       "      <td>2015-01-01 00:11:26</td>\n",
       "      <td>5</td>\n",
       "      <td>4.00</td>\n",
       "      <td>-73.971436</td>\n",
       "      <td>40.760201</td>\n",
       "      <td>1</td>\n",
       "      <td>N</td>\n",
       "      <td>-73.921181</td>\n",
       "      <td>40.768269</td>\n",
       "      <td>2</td>\n",
       "      <td>13.5</td>\n",
       "      <td>0.5</td>\n",
       "      <td>0.5</td>\n",
       "      <td>0.0</td>\n",
       "      <td>0.0</td>\n",
       "      <td>0.0</td>\n",
       "      <td>14.5</td>\n",
       "    </tr>\n",
       "    <tr>\n",
       "      <td>1</td>\n",
       "      <td>2015-01-01 00:00:00</td>\n",
       "      <td>2</td>\n",
       "      <td>2015-01-01 00:00:00</td>\n",
       "      <td>1</td>\n",
       "      <td>1.68</td>\n",
       "      <td>-73.991547</td>\n",
       "      <td>40.750069</td>\n",
       "      <td>1</td>\n",
       "      <td>N</td>\n",
       "      <td>0.000000</td>\n",
       "      <td>0.000000</td>\n",
       "      <td>2</td>\n",
       "      <td>10.0</td>\n",
       "      <td>0.0</td>\n",
       "      <td>0.5</td>\n",
       "      <td>0.0</td>\n",
       "      <td>0.0</td>\n",
       "      <td>0.3</td>\n",
       "      <td>10.8</td>\n",
       "    </tr>\n",
       "    <tr>\n",
       "      <td>2</td>\n",
       "      <td>2015-01-01 00:00:00</td>\n",
       "      <td>2</td>\n",
       "      <td>2015-01-01 00:00:00</td>\n",
       "      <td>3</td>\n",
       "      <td>1.56</td>\n",
       "      <td>-74.001320</td>\n",
       "      <td>40.729057</td>\n",
       "      <td>1</td>\n",
       "      <td>N</td>\n",
       "      <td>-74.010208</td>\n",
       "      <td>40.719662</td>\n",
       "      <td>1</td>\n",
       "      <td>7.5</td>\n",
       "      <td>0.5</td>\n",
       "      <td>0.5</td>\n",
       "      <td>0.0</td>\n",
       "      <td>0.0</td>\n",
       "      <td>0.3</td>\n",
       "      <td>8.8</td>\n",
       "    </tr>\n",
       "    <tr>\n",
       "      <td>3</td>\n",
       "      <td>2015-01-01 00:00:01</td>\n",
       "      <td>1</td>\n",
       "      <td>2015-01-01 00:03:49</td>\n",
       "      <td>1</td>\n",
       "      <td>0.80</td>\n",
       "      <td>-73.860847</td>\n",
       "      <td>40.757294</td>\n",
       "      <td>1</td>\n",
       "      <td>N</td>\n",
       "      <td>-73.868111</td>\n",
       "      <td>40.752285</td>\n",
       "      <td>2</td>\n",
       "      <td>5.0</td>\n",
       "      <td>0.5</td>\n",
       "      <td>0.5</td>\n",
       "      <td>0.0</td>\n",
       "      <td>0.0</td>\n",
       "      <td>0.0</td>\n",
       "      <td>6.3</td>\n",
       "    </tr>\n",
       "    <tr>\n",
       "      <td>4</td>\n",
       "      <td>2015-01-01 00:00:03</td>\n",
       "      <td>2</td>\n",
       "      <td>2015-01-01 00:21:48</td>\n",
       "      <td>2</td>\n",
       "      <td>2.57</td>\n",
       "      <td>-73.969017</td>\n",
       "      <td>40.754269</td>\n",
       "      <td>1</td>\n",
       "      <td>N</td>\n",
       "      <td>-73.994133</td>\n",
       "      <td>40.761600</td>\n",
       "      <td>2</td>\n",
       "      <td>14.5</td>\n",
       "      <td>0.5</td>\n",
       "      <td>0.5</td>\n",
       "      <td>0.0</td>\n",
       "      <td>0.0</td>\n",
       "      <td>0.3</td>\n",
       "      <td>15.8</td>\n",
       "    </tr>\n",
       "  </tbody>\n",
       "</table>\n",
       "</div>"
      ],
      "text/plain": [
       "  tpep_pickup_datetime  VendorID tpep_dropoff_datetime  passenger_count  \\\n",
       "0  2015-01-01 00:00:00         1   2015-01-01 00:11:26                5   \n",
       "1  2015-01-01 00:00:00         2   2015-01-01 00:00:00                1   \n",
       "2  2015-01-01 00:00:00         2   2015-01-01 00:00:00                3   \n",
       "3  2015-01-01 00:00:01         1   2015-01-01 00:03:49                1   \n",
       "4  2015-01-01 00:00:03         2   2015-01-01 00:21:48                2   \n",
       "\n",
       "   trip_distance  pickup_longitude  pickup_latitude  RateCodeID  \\\n",
       "0           4.00        -73.971436        40.760201           1   \n",
       "1           1.68        -73.991547        40.750069           1   \n",
       "2           1.56        -74.001320        40.729057           1   \n",
       "3           0.80        -73.860847        40.757294           1   \n",
       "4           2.57        -73.969017        40.754269           1   \n",
       "\n",
       "  store_and_fwd_flag  dropoff_longitude  dropoff_latitude  payment_type  \\\n",
       "0                  N         -73.921181         40.768269             2   \n",
       "1                  N           0.000000          0.000000             2   \n",
       "2                  N         -74.010208         40.719662             1   \n",
       "3                  N         -73.868111         40.752285             2   \n",
       "4                  N         -73.994133         40.761600             2   \n",
       "\n",
       "   fare_amount  extra  mta_tax  tip_amount  tolls_amount  \\\n",
       "0         13.5    0.5      0.5         0.0           0.0   \n",
       "1         10.0    0.0      0.5         0.0           0.0   \n",
       "2          7.5    0.5      0.5         0.0           0.0   \n",
       "3          5.0    0.5      0.5         0.0           0.0   \n",
       "4         14.5    0.5      0.5         0.0           0.0   \n",
       "\n",
       "   improvement_surcharge  total_amount  \n",
       "0                    0.0          14.5  \n",
       "1                    0.3          10.8  \n",
       "2                    0.3           8.8  \n",
       "3                    0.0           6.3  \n",
       "4                    0.3          15.8  "
      ]
     },
     "execution_count": 4,
     "metadata": {},
     "output_type": "execute_result"
    }
   ],
   "source": [
    "#Persist Dataset1\n",
    "df1_clust=client.persist(df1)\n",
    "df1_clust.head()"
   ]
  },
  {
   "cell_type": "code",
   "execution_count": 5,
   "metadata": {},
   "outputs": [
    {
     "data": {
      "text/html": [
       "<div>\n",
       "<style scoped>\n",
       "    .dataframe tbody tr th:only-of-type {\n",
       "        vertical-align: middle;\n",
       "    }\n",
       "\n",
       "    .dataframe tbody tr th {\n",
       "        vertical-align: top;\n",
       "    }\n",
       "\n",
       "    .dataframe thead th {\n",
       "        text-align: right;\n",
       "    }\n",
       "</style>\n",
       "<table border=\"1\" class=\"dataframe\">\n",
       "  <thead>\n",
       "    <tr style=\"text-align: right;\">\n",
       "      <th></th>\n",
       "      <th>LocationID</th>\n",
       "      <th>Borough</th>\n",
       "      <th>Zone</th>\n",
       "      <th>service_zone</th>\n",
       "    </tr>\n",
       "  </thead>\n",
       "  <tbody>\n",
       "    <tr>\n",
       "      <td>0</td>\n",
       "      <td>1</td>\n",
       "      <td>EWR</td>\n",
       "      <td>Newark Airport</td>\n",
       "      <td>EWR</td>\n",
       "    </tr>\n",
       "    <tr>\n",
       "      <td>1</td>\n",
       "      <td>2</td>\n",
       "      <td>Queens</td>\n",
       "      <td>Jamaica Bay</td>\n",
       "      <td>Boro Zone</td>\n",
       "    </tr>\n",
       "    <tr>\n",
       "      <td>2</td>\n",
       "      <td>3</td>\n",
       "      <td>Bronx</td>\n",
       "      <td>Allerton/Pelham Gardens</td>\n",
       "      <td>Boro Zone</td>\n",
       "    </tr>\n",
       "    <tr>\n",
       "      <td>3</td>\n",
       "      <td>4</td>\n",
       "      <td>Manhattan</td>\n",
       "      <td>Alphabet City</td>\n",
       "      <td>Yellow Zone</td>\n",
       "    </tr>\n",
       "    <tr>\n",
       "      <td>4</td>\n",
       "      <td>5</td>\n",
       "      <td>Staten Island</td>\n",
       "      <td>Arden Heights</td>\n",
       "      <td>Boro Zone</td>\n",
       "    </tr>\n",
       "  </tbody>\n",
       "</table>\n",
       "</div>"
      ],
      "text/plain": [
       "   LocationID        Borough                     Zone service_zone\n",
       "0           1            EWR           Newark Airport          EWR\n",
       "1           2         Queens              Jamaica Bay    Boro Zone\n",
       "2           3          Bronx  Allerton/Pelham Gardens    Boro Zone\n",
       "3           4      Manhattan            Alphabet City  Yellow Zone\n",
       "4           5  Staten Island            Arden Heights    Boro Zone"
      ]
     },
     "execution_count": 5,
     "metadata": {},
     "output_type": "execute_result"
    }
   ],
   "source": [
    "#Load Dataset2\n",
    "df2 = pd.read_csv(\"https://s3.amazonaws.com/nyc-tlc/misc/taxi%20_zone_lookup.csv\")\n",
    "df2.head()"
   ]
  },
  {
   "cell_type": "code",
   "execution_count": 6,
   "metadata": {},
   "outputs": [
    {
     "name": "stderr",
     "output_type": "stream",
     "text": [
      "/srv/conda/envs/notebook/lib/python3.7/site-packages/dask/dataframe/core.py:2966: UserWarning: \n",
      "You did not provide metadata, so Dask is running your function on a small dataset to guess output types. It is possible that Dask will guess incorrectly.\n",
      "To provide an explicit output types or to silence this message, please provide the `meta=` keyword, as described in the map or apply function that you are using.\n",
      "  Before: .apply(func)\n",
      "  After:  .apply(func, meta=('tpep_pickup_datetime', 'int64'))\n",
      "\n",
      "  warnings.warn(meta_warning(meta))\n"
     ]
    }
   ],
   "source": [
    "#Extract the hour value from the date time format\n",
    "\n",
    "def hr_func(ts):\n",
    "     return ts.hour\n",
    "    \n",
    "df1_clust['tpep_pickup_time_hour'] = df1_clust['tpep_pickup_datetime'].apply(hr_func)"
   ]
  },
  {
   "cell_type": "code",
   "execution_count": 7,
   "metadata": {},
   "outputs": [
    {
     "data": {
      "text/plain": [
       "tpep_pickup_time_hour\n",
       "0     57167\n",
       "1     54658\n",
       "2     45702\n",
       "3     37813\n",
       "4     26768\n",
       "5     15379\n",
       "6     16568\n",
       "7     19483\n",
       "8     24440\n",
       "9     32219\n",
       "10    35311\n",
       "11    30869\n",
       "12    35834\n",
       "13    36471\n",
       "14    38254\n",
       "15    38708\n",
       "16    34825\n",
       "17    38191\n",
       "18    41090\n",
       "19    39712\n",
       "20    35170\n",
       "21    34412\n",
       "22    35727\n",
       "23    32698\n",
       "Name: tpep_pickup_datetime, dtype: int64"
      ]
     },
     "execution_count": 7,
     "metadata": {},
     "output_type": "execute_result"
    }
   ],
   "source": [
    "#Group the observations by pickup hour and calculate the total rides taken in each hour\n",
    "df1_clust_hour = df1_clust.groupby('tpep_pickup_time_hour').count().compute()\n",
    "df1_clust_hour['tpep_pickup_datetime']"
   ]
  },
  {
   "cell_type": "code",
   "execution_count": 8,
   "metadata": {},
   "outputs": [],
   "source": [
    "#From the above output, peak hours are:\n",
    "#Midnight-1AM, 1AM-2AM and 2AM-3AM followed by 6PM-7PM\n",
    "#Peak Hours from 6PM-7PM is logical to understand, howeve peak hour from midnight-3AM doesnt look realistic. We need to look\n",
    "#into the data to understand this pattern.\n",
    "\n",
    "#Off-peak hours are from 5AM-6AM"
   ]
  },
  {
   "cell_type": "code",
   "execution_count": 9,
   "metadata": {},
   "outputs": [],
   "source": [
    "from datetime import datetime"
   ]
  },
  {
   "cell_type": "code",
   "execution_count": 10,
   "metadata": {},
   "outputs": [
    {
     "data": {
      "text/plain": [
       "88087"
      ]
     },
     "execution_count": 10,
     "metadata": {},
     "output_type": "execute_result"
    }
   ],
   "source": [
    "#Calculate the number of rides on 2015-01-01 from midnight-3AM\n",
    "ret=df1_clust[(df1_clust['tpep_pickup_datetime'] >= '2015-01-01 00:00:00') & (df1_clust['tpep_pickup_datetime'] <= '2015-01-01 02:59:59')]\n",
    "ret['tpep_pickup_datetime'].count().compute()"
   ]
  },
  {
   "cell_type": "code",
   "execution_count": 11,
   "metadata": {},
   "outputs": [],
   "source": [
    "#Total rides from Midnight to 3AM = 1,57,527\n",
    "#Total rides from Midnight to 3AM on 2015-01-01 = 88087\n",
    "#Conclusion: More than 50% of the total rides in the timeframe of midnight to 3AM are on 2015-01-01 which can be explained due\n",
    "#to the New Year Eve. The data is highly skewed at midnight on 2015-01-01 causing it to be the peak hours.\n",
    "\n",
    "#Dataset2 provides the Location ID and corresponding zones, which can be used to determine the peak and off-peak hours in \n",
    "#specific zones. However there is no variable linking this dataset to dataset1. Hence it is not used for analysis."
   ]
  },
  {
   "cell_type": "code",
   "execution_count": null,
   "metadata": {},
   "outputs": [],
   "source": []
  },
  {
   "cell_type": "code",
   "execution_count": null,
   "metadata": {},
   "outputs": [],
   "source": []
  },
  {
   "cell_type": "code",
   "execution_count": null,
   "metadata": {},
   "outputs": [],
   "source": []
  }
 ],
 "metadata": {
  "kernelspec": {
   "display_name": "Python 3",
   "language": "python",
   "name": "python3"
  },
  "language_info": {
   "codemirror_mode": {
    "name": "ipython",
    "version": 3
   },
   "file_extension": ".py",
   "mimetype": "text/x-python",
   "name": "python",
   "nbconvert_exporter": "python",
   "pygments_lexer": "ipython3",
   "version": "3.7.3"
  }
 },
 "nbformat": 4,
 "nbformat_minor": 2
}
